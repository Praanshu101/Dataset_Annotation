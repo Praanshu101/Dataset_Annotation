{
 "cells": [
  {
   "cell_type": "markdown",
   "metadata": {},
   "source": [
    "## Task 3 (Calculation of Inter Annotation Agreement)"
   ]
  },
  {
   "cell_type": "code",
   "execution_count": 1,
   "metadata": {},
   "outputs": [],
   "source": [
    "import csv\n",
    "import json"
   ]
  },
  {
   "cell_type": "markdown",
   "metadata": {},
   "source": [
    "### Cohen's Kappa "
   ]
  },
  {
   "cell_type": "markdown",
   "metadata": {},
   "source": [
    "We will create a dictionary for each data point in a CSV file in the format `{'word': 'entity'}`.\n",
    "\n",
    "The CSV file has the following columns:\n",
    "- `annotation_id`\n",
    "- `annotator`\n",
    "- `created_at`\n",
    "- `id`\n",
    "- `label`\n",
    "- `lead_time`\n",
    "- `text`\n",
    "- `updated_at`\n",
    "\n",
    "The `label` column contains a list of dictionaries with the keys:\n",
    "- `start`\n",
    "- `end`\n",
    "- `label`\n",
    "- `text`\n",
    "\n",
    "From these, we are interested in the `text` and `label` keys, which represent the words and their corresponding entities.\n"
   ]
  },
  {
   "cell_type": "code",
   "execution_count": 2,
   "metadata": {},
   "outputs": [],
   "source": [
    "# Read the csv file and convert it to a list\n",
    "def csv_to_dict(filename):\n",
    "    with open(filename, mode='r', encoding='utf-8') as file:\n",
    "        reader = csv.reader(file)\n",
    "        next(reader)  # Skip the header row\n",
    "        data = list(reader)\n",
    "    return data"
   ]
  },
  {
   "cell_type": "code",
   "execution_count": 3,
   "metadata": {},
   "outputs": [],
   "source": [
    "# Create the list of dictionaries\n",
    "def create_dict(data):\n",
    "    lst = []\n",
    "    for i in range(len(data)):\n",
    "        # Ensure the row has at least 5 columns (Skipping the blank rows)\n",
    "        if len(data[i]) > 4:\n",
    "            dict = {}\n",
    "            # Extracting the \"label\" column\n",
    "            label_str = data[i][4]\n",
    "            if label_str:  # Checking if label_str is not empty\n",
    "                # Correcting the JSON string format\n",
    "                label_str = label_str.replace('\"\"', '\"')\n",
    "                label = json.loads(label_str)\n",
    "                # From the \"label\" column, extracting the \"text\" and \"label\" keys\n",
    "                for j in range(len(label)):\n",
    "                    # Extracting the \"text\" and \"label\" keys\n",
    "                    word = label[j]['text']\n",
    "                    entity = label[j]['labels'][0]\n",
    "                    # Creating the dictionary\n",
    "                    dict[word] = entity\n",
    "            lst.append(dict)\n",
    "    return lst\n"
   ]
  },
  {
   "cell_type": "code",
   "execution_count": 4,
   "metadata": {},
   "outputs": [],
   "source": [
    "# Print the list of dictionaries\n",
    "def print_dict(lst):\n",
    "    for i in range(len(lst)):\n",
    "        print(lst[i])"
   ]
  },
  {
   "cell_type": "code",
   "execution_count": 5,
   "metadata": {},
   "outputs": [
    {
     "name": "stdout",
     "output_type": "stream",
     "text": [
      "{'को': 'ADP', 'बंगाल': 'PROPN', 'पश्चिम': 'NOUN', 'फिर': 'ADV', 'से': 'ADP', 'देश': 'NOUN', 'के': 'ADP', 'अहम': 'ADJ', 'Trading': 'NOUN', 'और': 'CONJ', 'Industrial': 'ADJ', 'Center': 'NOUN', 'रूप': 'NOUN', 'में': 'ADP', 'विकसित': 'VERB', 'करने': 'VERB', 'लिए': 'ADP', 'हम': 'PRON', 'निरंतर': 'ADV', 'काम': 'NOUN', 'कर': 'VERB', 'रहे': 'VERB', 'हैं': 'VERB', '।': 'X'}\n",
      "{'Inland': 'ADJ', 'Waterway': 'NOUN', 'Authority': 'NOUN', 'of': 'ADP', 'India': 'PROPN', ',': 'X', 'यहां': 'ADV', 'मल्टीमॉडल': 'ADJ', 'टर्मिनल': 'NOUN', 'के': 'ADP', 'निर्माण': 'NOUN', 'की': 'ADP', 'योजना': 'NOUN', 'पर': 'ADP', 'काम': 'NOUN', 'कर': 'VERB', 'रही': 'VERB', 'है': 'VERB', '।': 'X'}\n",
      "{'पर्यटन': 'NOUN', 'मंत्रालय': 'NOUN', 'के': 'ADP', 'regional': 'ADJ', 'office': 'NOUN', 'महीने': 'NOUN', 'ने': 'ADP', 'शुरू': 'NOUN', 'गाँवों': 'NOUN', 'Gateway': 'NOUN', 'शुरुआत': 'NOUN', 'में': 'ADP', 'की': 'X', 'ही': 'PART', 'बंगाल': 'PROPN', 'एक': 'DET', 'Incredible': 'ADJ', 'India': 'PROPN', '।': 'X', 'Weekend': 'PROPN'}\n",
      "{'इसमें': 'ADP', 'पश्चिम': 'NOUN', 'मिदनापुर': 'PROPN', ',': 'X', 'बांकुरा': 'PROPN', 'बीरभूम': 'PROPN', 'पुरुलिया': 'PROPN', 'बर्धमान': 'PROPN', 'पूर्व': 'NOUN', 'वहाँ': 'ADV', 'के': 'ADP', 'हस्तशिल्प': 'NOUN', 'कलाकारों': 'NOUN', 'ने': 'ADP', 'visitors': 'NOUN', 'लिये': 'ADP', 'Handicraft': 'ADJ', 'Workshop': 'NOUN', 'आयोजित': 'VERB', 'की': 'VERB', '।': 'X'}\n",
      "{'साथियो': 'NOUN', ',': 'X', 'Road': 'NOUN', 'Safety': 'NOUN', 'के': 'ADP', 'बारे': 'NOUN', 'में': 'ADP', 'बात': 'NOUN', 'करते': 'VERB', 'हुए': 'VERB', 'मैं': 'ADP', 'NaMo': 'PROPN', 'App': 'NOUN', 'पर': 'ADP', 'कोलकाता': 'PROPN', 'की': 'ADP', 'अपर्णा': 'PROPN', 'दास': 'PROPN', 'जी': 'PROPN', 'एक': 'DET', 'पोस्ट': 'NOUN', 'चर्चा': 'NOUN', 'करना': 'VERB', 'चाहूँगा': 'VERB', '।': 'X'}\n",
      "{'Brussels': 'PROPN', 'में': 'ADP', 'European': 'PROPN', 'Parliament': 'NOUN', 'हो': 'VERB', ',': 'X', 'New': 'PROPN', 'York': 'PROPN', 'स्थित': 'ADJ', 'संयुक्तराष्ट्र': 'PROPN', 'का': 'ADP', 'मुख्यालय': 'NOUN', 'जापानी': 'ADJ', 'नौ-सेना': 'NOUN', 'के': 'ADP', 'लड़ाकू': 'ADJ', 'जहाज़': 'NOUN', 'हों': 'VERB', 'सभी': 'DET', 'जगह': 'NOUN', 'लोग': 'NOUN', 'योग': 'NOUN', 'करते': 'VERB', 'आए': 'VERB', 'नज़र': 'VERB', '।': 'X'}\n",
      "{'इसके': 'PRON', 'अलावा': 'ADP', 'बैंक': 'NOUN', 'गारंटी': 'NOUN', 'सहित': 'ADP', 'दूसरी': 'ADJ', 'अनेक': 'DET', 'ज़रूरतों': 'NOUN', 'से': 'ADP', 'भी': 'PART', 'BPO': 'PROPN', 'Industry': 'NOUN', 'को': 'ADP', 'मुक्त': 'ADJ', 'किया': 'VERB', 'गया': 'VERB', 'है': 'VERB', '।': 'X'}\n",
      "{'Start-up': 'PROPN', 'India': 'PROPN', 'इस': 'PRON', 'अभियान': 'NOUN', 'के': 'ADP', 'बाद': 'ADP', 'से': 'ADP', 'भारत': 'PROPN', 'में': 'ADP', '50': 'NUM', 'हज़ार': 'NUM', 'भी': 'PART', 'ज्यादा': 'ADJ', 'स्टार्ट': 'NOUN', 'अप': 'NOUN', 'शुरू': 'VERB', 'हुए': 'VERB', 'हैं': 'VERB', '।': 'X'}\n",
      "{'योग': 'NOUN', 'की': 'ADP', 'ये': 'PRON', 'सभी': 'DET', 'विधाएं': 'NOUN', ',': 'X', 'तकनीक': 'NOUN', 'हमारे': 'PRON', 'respiratory': 'PROPN', 'system': 'PROPN', 'और': 'CONJ', 'immune': 'PROPN', 'दोनों': 'DET', 'को': 'ADP', 'मजबूत': 'ADJ', 'करने': 'VERB', 'में': 'ADP', 'बहुत': 'ADV', 'मदद': 'NOUN', 'करती': 'VERB', 'हैं': 'VERB', '।': 'X'}\n",
      "{'अभी': 'ADV', 'पिछले': 'ADJ', 'दिनों': 'NOUN', 'ही': 'PART', ',': 'X', 'हमारे': 'PRON', 'यहाँ': 'ADV', 'भी': 'PART', 'बिहू': 'PROPN', 'बैसाखी': 'PROPN', 'पुथंडू': 'PROPN', 'विशू': 'PROPN', 'ओड़िया': 'ADJ', 'New': 'ADJ', 'Year': 'NOUN', 'ऐसे': 'DET', 'अनेक': 'DET', 'त्योहार': 'NOUN', 'आये': 'VERB', '।': 'X'}\n",
      "{'Rakhine': 'PROPN', 'State': 'PROPN', 'में': 'ADP', 'चरमपंथी': 'ADJ', 'हिंसा': 'NOUN', 'के': 'ADP', 'चलते': 'VERB', 'खासकर': 'ADV', 'security': 'ADJ', 'forces': 'NOUN', 'और': 'CONJ', 'मासूम': 'ADJ', 'जीवन': 'NOUN', 'हानि': 'NOUN', 'की': 'ADP', 'को': 'ADP', 'लेकर': 'VERB', 'आपकीचिंताओं': 'PROPN', 'हम': 'PRON', 'भागीदार': 'NOUN', 'हैं': 'VERB', '।': 'X'}\n",
      "{'और': 'CONJ', 'इसलिए': 'ADV', ',': 'X', 'म्यांमार': 'PROPN', 'के': 'ADP', 'Executive': 'NOUN', 'Legislature': 'NOUN', 'Election': 'NOUN', 'Commission': 'NOUN', 'तथा': 'CONJ', 'Press': 'NOUN', 'Council': 'NOUN', 'जैसी': 'ADJ', 'संस्थाओं': 'NOUN', 'Capacity': 'NOUN', 'Building': 'NOUN', 'की': 'ADP', 'में': 'ADP', 'हमारे': 'PRON', 'व्यापकसहयोग': 'PROPN', 'पर': 'ADP', 'हमें': 'PRON', 'गर्व': 'NOUN', 'है': 'VERB', '।': 'X'}\n",
      "{'Kaladan': 'PROPN', 'project': 'NOUN', 'port': 'NOUN', 'Sittwe': 'PROPN', 'Paletwa': 'PROPN', 'Inland': 'NOUN', 'Waterways': 'NOUN', 'Terminal': 'NOUN', 'में': 'ADP', 'हमने': 'PRON', 'तथा': 'CONJ', 'परकाम': 'PART', 'पूरा': 'ADJ', 'किया': 'VERB', 'है': 'VERB', '।': 'X'}\n",
      "{'इस': 'PRON', 'संबंध': 'NOUN', 'में': 'ADP', 'Myanmar': 'PROPN', 'Institute': 'NOUN', 'Information': 'NOUN', 'Technology': 'NOUN', 'of': 'ADP', 'और': 'CONJ', 'Advanced': 'ADJ', 'Centre': 'NOUN', 'Agricultural': 'NOUN', 'Research': 'NOUN', 'Education': 'NOUN', 'and': 'CONJ', 'for': 'ADP', 'विशेष': 'ADJ', 'रूप': 'NOUN', 'से': 'ADP', 'उल्लेखनीय': 'ADJ', 'हैं': 'VERB', '।': 'X'}\n",
      "{'हमारे': 'PRON', 'यहां': 'ADV', 'के': 'ADP', 'समुद्री': 'ADJ', 'तट': 'NOUN', 'Women': 'NOUN', 'पर': 'ADP', 'Self': 'NOUN', 'Help': 'NOUN', 'Group': 'NOUN', 'द्वारा': 'ADP', 'इस': 'PRON', 'प्रकार': 'NOUN', 'की': 'VERB', 'sea': 'NOUN', 'weed': 'NOUN', 'खेती': 'NOUN', 'प्रारंभ': 'VERB', 'जाए': 'VERB', '।': 'X'}\n",
      "{'International': 'ADJ', 'North': 'NOUN', 'South': 'NOUN', 'Transport': 'NOUN', 'Corridor': 'NOUN', ',': 'X', 'चाबहार': 'PROPN', 'पोर्ट': 'NOUN', 'अश्गाबात': 'PROPN', 'समझौते': 'NOUN', 'जैसे': 'ADV', 'कदम': 'NOUN', 'Connectivity': 'NOUN', 'के': 'ADP', 'को': 'ADP', 'प्रति': 'ADP', 'भारत': 'PROPN', 'मजबूत': 'ADJ', 'संकल्प': 'NOUN', 'दर्शाते': 'VERB', 'हैं': 'VERB', '।': 'X'}\n",
      "{'OBC': 'PROPN', 'कमीशन': 'NOUN', 'को': 'ADP', 'संवैधानिक': 'ADJ', 'दर्जा': 'NOUN', 'मिलने': 'VERB', 'के': 'ADP', 'भी': 'PART', 'ST': 'PROPN', 'SC': 'PROPN', 'बाद': 'NOUN', 'इस': 'PRON', 'आयोग': 'NOUN', 'की': 'ADP', 'तरह': 'NOUN', 'शक्तियां': 'NOUN', 'हासिल': 'VERB', 'जाएंगी': 'VERB', 'हो': 'VERB', '।': 'X'}\n",
      "{'इस': 'PRON', '2': 'NUM', 'अक्\\u200dटूबर': 'PROPN', 'को': 'ADP', 'जब': 'ADV', 'देश': 'NOUN', 'महात्\\u200dमा': 'PROPN', 'गांधी': 'ADP', 'की': 'ADP', '150वीं': 'DET', 'जन्\\u200dम': 'NOUN', 'जयंती': 'NOUN', 'मनाएगा': 'VERB', ',': 'X', 'तो': 'CONJ', 'भारत': 'PROPN', 'Open': 'ADJ', 'Defecation': 'VERB', 'Farewell': 'NOUN', 'दे': 'VERB', 'देगा': 'VERB', '।': 'X'}\n",
      "{'बावजूद': 'ADV', 'इसके': 'PRON', 'हमारी': 'PRON', 'पार्लियामेंट': 'PROPN', 'के': 'ADP', 'Upper': 'ADJ', 'House': 'NOUN', 'house': 'NOUN', 'lower': 'ADJ', 'और': 'CONJ', 'दोनों': 'PRON', 'ने': 'VERB', 'इससे': 'PRON', 'जुड़े': 'VERB', 'फैसलों': 'NOUN', 'को': 'ADP', 'दो': 'DET', 'तिहाई': 'ADJ', 'बहुमत': 'NOUN', 'से': 'ADP', 'पास': 'VERB', 'किया': 'VERB', 'है': 'VERB', '।': 'X'}\n",
      "{'जब': 'ADV', 'मैं': 'PRON', 'पहली': 'ADJ', 'बार': 'NOUN', 'राष्ट्र': 'NOUN', 'संघ': 'NOUN', 'संयुक्त': 'ADJ', 'गया': 'VERB', 'था': 'VERB', ',': 'X', 'तब': 'ADV', 'मैंने': 'ADP', 'विश्व': 'NOUN', 'के': 'ADP', 'सामने': 'ADV', 'International': 'ADJ', 'Yoga': 'NOUN', 'Day': 'NOUN', 'का': 'ADP', 'प्रस्ताव': 'NOUN', 'रखा': 'VERB', '।': 'X'}\n"
     ]
    }
   ],
   "source": [
    "# Importing labels from file NER1.csv\n",
    "data = csv_to_dict('NER1.csv')\n",
    "lstdict1 = create_dict(data)\n",
    "print_dict(lstdict1)"
   ]
  },
  {
   "cell_type": "code",
   "execution_count": 6,
   "metadata": {},
   "outputs": [
    {
     "name": "stdout",
     "output_type": "stream",
     "text": [
      "20\n",
      "20\n"
     ]
    }
   ],
   "source": [
    "print(len(lstdict1))\n",
    "print(len(lstdict1))"
   ]
  },
  {
   "cell_type": "markdown",
   "metadata": {},
   "source": [
    "##### Cohen's Kappa calculation:"
   ]
  },
  {
   "cell_type": "markdown",
   "metadata": {},
   "source": [
    "The formula for Cohen's Kappa is:\n",
    "\\[ \\text{Kappa} = \\frac{P_o - P_e}{1 - P_e} \\]\n",
    "\n",
    "Where:\n",
    "- \\( P_o \\) is the observed agreement among raters.\n",
    "- \\( P_e \\) is the expected agreement by chance.\n",
    "\n",
    "Explanation:\n",
    "- **Observed Agreement (\\( P_o \\))**: The proportion of times that the raters agree.\n",
    "- **Expected Agreement (\\( P_e \\))**: The proportion of times that we would expect the raters to agree by chance."
   ]
  },
  {
   "cell_type": "code",
   "execution_count": 7,
   "metadata": {},
   "outputs": [],
   "source": [
    "# Po\n",
    "labellist=[\"NOUN\", \"PROPN\", \"VERB\", \"ADJ\", \"ADV\", \"ADP\", \"PRON\", \"DET\", \"CONJ\", \"PART\", \"PRON_WH\", \"PART_NEG\", \"NUM\", \"X\"]\n",
    "\n",
    "# Make a matrix for IIA\n",
    "\n",
    "matrix = [[0 for i in range(len(labellist))] for j in range(len(labellist))]\n",
    "\n",
    "for i in range(len(lstdict1)):\n",
    "    for key, value in lstdict1[i].items():\n",
    "        for key2, value2 in lstdict1[i].items():\n",
    "            if key == key2:\n",
    "                # print(key)\n",
    "                # Check labels\n",
    "                if value != value2:\n",
    "                    print(f\"Conflict: {key} has different labels: {value} and {value2}\")\n",
    "                    break\n"
   ]
  },
  {
   "cell_type": "code",
   "execution_count": null,
   "metadata": {},
   "outputs": [],
   "source": []
  },
  {
   "cell_type": "markdown",
   "metadata": {},
   "source": [
    "### Fliess' Kappa "
   ]
  },
  {
   "cell_type": "markdown",
   "metadata": {},
   "source": [
    "For the CV CSV files, we make a list of labels for each image.\n",
    "\n",
    "The labels are:\n",
    "- `annotation_id`\n",
    "- `annotator`\n",
    "- `choice`\n",
    "- `created_at`\n",
    "- `id`\n",
    "- `image`\n",
    "- `lead_time`\n",
    "- `updated_at`\n",
    "\n",
    "Of these, we are interested in the `choice` column, which contains our 'labels'."
   ]
  },
  {
   "cell_type": "markdown",
   "metadata": {},
   "source": [
    "##### Importing files:"
   ]
  },
  {
   "cell_type": "code",
   "execution_count": 8,
   "metadata": {},
   "outputs": [],
   "source": [
    "def create_label_list(data):\n",
    "    lst = []\n",
    "    for i in range(len(data)):\n",
    "        # Ensure the row has at least 5 columns (Skipping the blank rows)\n",
    "        if len(data[i]) > 4:\n",
    "            # Extracting the \"choice\" column\n",
    "            if data[i][2]:  # Checking if choice is not empty\n",
    "                label = data[i][2]\n",
    "                lst.append(label)\n",
    "    return lst"
   ]
  },
  {
   "cell_type": "code",
   "execution_count": 24,
   "metadata": {},
   "outputs": [
    {
     "name": "stdout",
     "output_type": "stream",
     "text": [
      "['No Trucks', 'No Trucks', 'No Trucks', 'No Trucks', 'No Trucks', 'Trucks', 'No Trucks', 'No Trucks', 'No Trucks', 'No Trucks', 'Trucks', 'No Trucks', 'No Trucks', 'Trucks', 'Trucks', 'No Trucks', 'No Trucks', 'No Trucks', 'Trucks', 'No Trucks']\n",
      "['No Trucks', 'No Trucks', 'No Trucks', 'No Trucks', 'Trucks', 'Trucks', 'No Trucks', 'No Trucks', 'Trucks', 'No Trucks', 'Trucks', 'No Trucks', 'No Trucks', 'Trucks', 'No Trucks', 'No Trucks', 'No Trucks', 'No Trucks', 'Trucks', 'No Trucks']\n",
      "['No Trucks', 'No Trucks', 'No Trucks', 'Trucks', 'No Trucks', 'Trucks', 'No Trucks', 'No Trucks', 'Trucks', 'No Trucks', 'Trucks', 'No Trucks', 'No Trucks', 'Trucks', 'No Trucks', 'No Trucks', 'No Trucks', 'Trucks', 'Trucks', 'No Trucks']\n"
     ]
    }
   ],
   "source": [
    "# Importing data from file CV1.csv\n",
    "data = csv_to_dict('CV1.csv')\n",
    "labelscv1 = create_label_list(data)\n",
    "print(labelscv1)\n",
    "\n",
    "# File 2 and 3\n",
    "data = csv_to_dict('CV2.csv')\n",
    "labelscv2 = create_label_list(data)\n",
    "print(labelscv2)\n",
    "\n",
    "data = csv_to_dict('CV3.csv')\n",
    "labelscv3 = create_label_list(data)\n",
    "print(labelscv3)"
   ]
  },
  {
   "cell_type": "markdown",
   "metadata": {},
   "source": [
    "##### Fliess' Kappa calculation:"
   ]
  },
  {
   "cell_type": "markdown",
   "metadata": {},
   "source": []
  },
  {
   "cell_type": "code",
   "execution_count": 30,
   "metadata": {},
   "outputs": [
    {
     "name": "stdout",
     "output_type": "stream",
     "text": [
      "The value of Fliess' kappa is: 0.5635305528612996\n"
     ]
    }
   ],
   "source": [
    "# Fliess' kappa\n",
    "combinedlist=[labelscv1,labelscv2,labelscv3]\n",
    "N = len(labelscv1) # Number of images\n",
    "n = len(combinedlist) # Number of annotators\n",
    "# Iterating over the all pairs of annotators\n",
    "\n",
    "Po=0\n",
    "ttrucks=0 # Total number of trucks agreed pairs\n",
    "tnotrucks=0 # Total number of notrucks agreed pairs\n",
    "for k in range(N):\n",
    "    trucks=0\n",
    "    notrucks=0\n",
    "    for i in range(len(combinedlist)-1):\n",
    "        for j in range(i+1, len(combinedlist)):\n",
    "            # Calculate the number of annotator pairs that assign same label (j) to the same image (i) (nij)\n",
    "            if combinedlist[i][k] == combinedlist[j][k] == \"Trucks\":\n",
    "                trucks+=1\n",
    "            elif combinedlist[i][k] == combinedlist[j][k] == \"No Trucks\":\n",
    "                notrucks+=1\n",
    "    #print(trucks)\n",
    "    #print(notrucks)\n",
    "    ttrucks+=trucks\n",
    "    tnotrucks+=notrucks\n",
    "    Pi=(trucks*(trucks-1)+notrucks*(notrucks-1))/((n)*(n-1))\n",
    "    #print(Pi)\n",
    "    Po+=Pi\n",
    "Po=Po/N\n",
    "#print(Po)\n",
    "Pe=(ttrucks**2+tnotrucks**2)/(n**2*N**2)\n",
    "#print(Pe)\n",
    "\n",
    "kappa=(Po-Pe)/(1-Pe)\n",
    "print(\"The value of Fliess' kappa is:\",kappa)\n",
    "\n"
   ]
  },
  {
   "cell_type": "code",
   "execution_count": null,
   "metadata": {},
   "outputs": [],
   "source": []
  }
 ],
 "metadata": {
  "kernelspec": {
   "display_name": "Python 3",
   "language": "python",
   "name": "python3"
  },
  "language_info": {
   "codemirror_mode": {
    "name": "ipython",
    "version": 3
   },
   "file_extension": ".py",
   "mimetype": "text/x-python",
   "name": "python",
   "nbconvert_exporter": "python",
   "pygments_lexer": "ipython3",
   "version": "3.12.2"
  }
 },
 "nbformat": 4,
 "nbformat_minor": 2
}
